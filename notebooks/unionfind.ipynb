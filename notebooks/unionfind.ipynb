{
 "cells": [
  {
   "cell_type": "markdown",
   "metadata": {},
   "source": [
    "# Union-Find (Disjoint Set Union) - DSU\n",
    "\n",
    "Union-Find is a data structure that efficiently handles dynamic connectivity queries and union operations on disjoint sets.\n"
   ]
  },
  {
   "cell_type": "markdown",
   "metadata": {},
   "source": [
    "## 1. Naive Implementation\n",
    "\n",
    "Basic union-find with no optimizations.\n",
    "\n",
    "**Time Complexity:**\n",
    "- Find: O(n) worst case (chain of parent pointers)\n",
    "- Union: O(n) worst case (since union uses find, they always have the same time complexity)\n"
   ]
  },
  {
   "cell_type": "code",
   "execution_count": null,
   "metadata": {},
   "outputs": [],
   "source": [
    "class DSU:\n",
    "    def __init__(self, n):\n",
    "        self.parent = list(range(n))\n",
    "    \n",
    "    def find(self, x):\n",
    "        if self.parent[x] != x:\n",
    "            return self.find(self.parent[x])\n",
    "        return x\n",
    "    \n",
    "    def union(self, x, y):\n",
    "        root_x = self.find(x)\n",
    "        root_y = self.find(y)\n",
    "        if root_x != root_y:\n",
    "            self.parent[root_x] = root_y\n",
    "    \n",
    "    def connected(self, x, y):\n",
    "        return self.find(x) == self.find(y)\n",
    "\n",
    "dsu = DSU(5)\n",
    "dsu.union(0, 1)\n",
    "dsu.union(2, 3)\n",
    "print(f\"0 and 1 connected: {dsu.connected(0, 1)}\")\n",
    "print(f\"0 and 2 connected: {dsu.connected(0, 2)}\")\n",
    "dsu.union(1, 2)\n",
    "print(f\"0 and 3 connected: {dsu.connected(0, 3)}\")"
   ]
  },
  {
   "cell_type": "markdown",
   "metadata": {},
   "source": [
    "## 2. Path Compression Only\n",
    "\n",
    "Optimizes find by making all nodes on the path point directly to the root.\n",
    "\n",
    "**Time Complexity:**\n",
    "- Find: O(log(n)) amortized\n",
    "- Union: O(log(n)) amortized\n"
   ]
  },
  {
   "cell_type": "code",
   "execution_count": null,
   "metadata": {},
   "outputs": [],
   "source": [
    "class DSU:\n",
    "    def __init__(self, n):\n",
    "        self.parent = list(range(n))\n",
    "    \n",
    "    def find(self, x):\n",
    "        if self.parent[x] != x:\n",
    "            self.parent[x] = self.find(self.parent[x])  # Path compression\n",
    "        return self.parent[x]\n",
    "    \n",
    "    def union(self, x, y):\n",
    "        root_x = self.find(x)\n",
    "        root_y = self.find(y)\n",
    "        if root_x != root_y:\n",
    "            self.parent[root_x] = root_y\n",
    "    \n",
    "    def connected(self, x, y):\n",
    "        return self.find(x) == self.find(y)\n",
    "\n",
    "dsu = DSU(5)\n",
    "dsu.union(0, 1)\n",
    "dsu.union(2, 3)\n",
    "print(f\"0 and 1 connected: {dsu.connected(0, 1)}\")\n",
    "print(f\"0 and 2 connected: {dsu.connected(0, 2)}\")\n",
    "dsu.union(1, 2)\n",
    "print(f\"0 and 3 connected: {dsu.connected(0, 3)}\")"
   ]
  },
  {
   "cell_type": "markdown",
   "metadata": {},
   "source": [
    "## 3. Union by Size with Path Compression\n",
    "\n",
    "Combines path compression with union by size (attach smaller tree to larger tree).\n",
    "\n",
    "**Time Complexity:**\n",
    "- Find: O(α(n)) amortized\n",
    "- Union: O(α(n)) amortized\n",
    "\n",
    "Note: α(n) is the inverse Ackermann function, which grows extremely slowly and is effectively constant for practical purposes."
   ]
  },
  {
   "cell_type": "code",
   "execution_count": null,
   "metadata": {},
   "outputs": [],
   "source": [
    "class DSU:\n",
    "    def __init__(self, n):\n",
    "        self.parent = list(range(n))\n",
    "        self.size = [1] * n\n",
    "    \n",
    "    def find(self, x):\n",
    "        if self.parent[x] != x:\n",
    "            self.parent[x] = self.find(self.parent[x])  # Path compression\n",
    "        return self.parent[x]\n",
    "    \n",
    "    def union(self, x, y):\n",
    "        root_x = self.find(x)\n",
    "        root_y = self.find(y)\n",
    "        if root_x != root_y:\n",
    "            # Union by size: attach smaller tree to larger tree\n",
    "            if self.size[root_x] < self.size[root_y]:\n",
    "                self.parent[root_x] = root_y\n",
    "                self.size[root_y] += self.size[root_x]\n",
    "            else:\n",
    "                self.parent[root_y] = root_x\n",
    "                self.size[root_x] += self.size[root_y]\n",
    "    \n",
    "    def connected(self, x, y):\n",
    "        return self.find(x) == self.find(y)\n",
    "\n",
    "dsu = DSU(5)\n",
    "dsu.union(0, 1)\n",
    "dsu.union(2, 3)\n",
    "print(f\"0 and 1 connected: {dsu.connected(0, 1)}\")\n",
    "print(f\"0 and 2 connected: {dsu.connected(0, 2)}\")\n",
    "dsu.union(1, 2)\n",
    "print(f\"0 and 3 connected: {dsu.connected(0, 3)}\")"
   ]
  },
  {
   "cell_type": "markdown",
   "metadata": {},
   "source": [
    "## 4. Union by Rank with Path Compression\n",
    "\n",
    "Combines path compression with union by rank (attach tree with smaller rank to tree with larger rank).\n",
    "\n",
    "**Time Complexity:**\n",
    "- Find: O(α(n)) amortized\n",
    "- Union: O(α(n)) amortized\n"
   ]
  },
  {
   "cell_type": "code",
   "execution_count": null,
   "metadata": {},
   "outputs": [],
   "source": [
    "class DSU:\n",
    "    def __init__(self, n):\n",
    "        self.parent = list(range(n))\n",
    "        self.rank = [0] * n\n",
    "    \n",
    "    def find(self, x):\n",
    "        if self.parent[x] != x:\n",
    "            self.parent[x] = self.find(self.parent[x])  # Path compression\n",
    "        return self.parent[x]\n",
    "    \n",
    "    def union(self, x, y):\n",
    "        root_x = self.find(x)\n",
    "        root_y = self.find(y)\n",
    "        if root_x != root_y:\n",
    "            # Union by rank: attach tree with smaller rank to tree with larger rank\n",
    "            if self.rank[root_x] < self.rank[root_y]:\n",
    "                self.parent[root_x] = root_y\n",
    "            elif self.rank[root_x] > self.rank[root_y]:\n",
    "                self.parent[root_y] = root_x\n",
    "            else:\n",
    "                self.parent[root_y] = root_x\n",
    "                self.rank[root_x] += 1\n",
    "    \n",
    "    def connected(self, x, y):\n",
    "        return self.find(x) == self.find(y)\n",
    "\n",
    "dsu = DSU(5)\n",
    "dsu.union(0, 1)\n",
    "dsu.union(2, 3)\n",
    "print(f\"0 and 1 connected: {dsu.connected(0, 1)}\")\n",
    "print(f\"0 and 2 connected: {dsu.connected(0, 2)}\")\n",
    "dsu.union(1, 2)\n",
    "print(f\"0 and 3 connected: {dsu.connected(0, 3)}\")"
   ]
  },
  {
   "cell_type": "markdown",
   "metadata": {},
   "source": [
    "## Summary\n",
    "\n",
    "| Implementation | Find Time | Union Time | Notes |\n",
    "|---|---|---|---|\n",
    "| Naive | O(n) | O(n) | No optimizations |\n",
    "| Path Compression Only | O(log(n)) | O(log(n)) | Flattens trees during find |\n",
    "| Union by Size | O(α(n)) | O(α(n)) | Balances trees by size |\n",
    "| Union by Rank | O(α(n)) | O(α(n)) | Balances trees by depth |\n",
    "\n",
    "Both union by size and union by rank with path compression achieve optimal performance, they are pratically equivalent and my personal opinion is size is more intuitive.\n"
   ]
  }
 ],
 "metadata": {
  "kernelspec": {
   "display_name": "Python 3",
   "language": "python",
   "name": "python3"
  },
  "language_info": {
   "codemirror_mode": {
    "name": "ipython",
    "version": 3
   },
   "file_extension": ".py",
   "mimetype": "text/x-python",
   "name": "python",
   "nbconvert_exporter": "python",
   "pygments_lexer": "ipython3",
   "version": "3.13.5"
  }
 },
 "nbformat": 4,
 "nbformat_minor": 2
}